{
 "cells": [
  {
   "cell_type": "code",
   "execution_count": 1,
   "id": "3d689c74",
   "metadata": {},
   "outputs": [],
   "source": [
    "class Ponto2D:\n",
    "    def __init__(self, x, y):\n",
    "        if(x==None):\n",
    "            self.__x = 0\n",
    "        else:    \n",
    "            self.__x = x\n",
    "        if(y==None):\n",
    "            self.__y = 0\n",
    "        else:    \n",
    "            self.__y = y\n",
    "        \n",
    "    def toString(self):\n",
    "        return(f\"({self.__x}, {self.__y})\")\n",
    "    \n",
    "    @property\n",
    "    def x(self):\n",
    "        return self.__x\n",
    "    \n",
    "    @property\n",
    "    def y(self):\n",
    "        return self.__y"
   ]
  },
  {
   "cell_type": "code",
   "execution_count": 2,
   "id": "63684467",
   "metadata": {},
   "outputs": [],
   "source": [
    "class Shape2D:\n",
    "    \n",
    "    def center(self):\n",
    "        raise NotImplementedError(\"Deve implementar o método center()\")\n",
    "        \n",
    "    def calArea(self):\n",
    "        raise NotImplementedError(\"Deve implementar o método calArea()\")\n",
    "        \n",
    "    def calPerimeter(self):\n",
    "        raise NotImplementedError(\"Deve implementar o método calPerimeter()\")"
   ]
  },
  {
   "cell_type": "code",
   "execution_count": null,
   "id": "d6345c87",
   "metadata": {},
   "outputs": [],
   "source": [
    "import math\n",
    "\n",
    "class Circle(Shape2D):\n",
    "    def __init__(self, pc, r):\n",
    "        self.__center = pc\n",
    "        self.__radius = r\n",
    "        \n",
    "    def center(self):\n",
    "        return self.__center\n",
    "    \n",
    "    def calArea(self):\n",
    "        return math.pi*self.__radius*self.__radius\n",
    "        \n",
    "    def calPerimeter(self):\n",
    "        return 2*math.pi*self.__radius\n",
    "        \n",
    "    def toString(self):\n",
    "        return (f\"Circle[center={self.__center.toString()}, radius={self.__radius}]\")"
   ]
  },
  {
   "cell_type": "code",
   "execution_count": null,
   "id": "de684a13",
   "metadata": {},
   "outputs": [],
   "source": [
    "c1 = Circle(Ponto2D(1, 1), 10)\n",
    "print(c1.toString())\n",
    "print(f\"Perimeter: {c1.calPerimeter()}\")\n",
    "print(f\"Area: {c1.calArea()}\\n\")"
   ]
  },
  {
   "cell_type": "code",
   "execution_count": 3,
   "id": "50a77186",
   "metadata": {},
   "outputs": [],
   "source": [
    "class Scalavel():\n",
    "    def changeSize(self, scale):\n",
    "        raise NotImplementedError(\"Deve implementar o método changeSize()\")\n",
    "        \n",
    "    def reflectShape(self):\n",
    "        raise NotImplementedError(\"Deve implementar o método reflectShape()\")"
   ]
  },
  {
   "cell_type": "code",
   "execution_count": 6,
   "id": "91427d97",
   "metadata": {},
   "outputs": [],
   "source": [
    "import math\n",
    "\n",
    "class CircleScalavel(Shape2D, Scalavel):\n",
    "    def __init__(self, pc, r):\n",
    "        self.__center = pc\n",
    "        self.__radius = r\n",
    "        \n",
    "    def center(self):\n",
    "        return self.__center\n",
    "    \n",
    "    def calArea(self):\n",
    "        return math.pi*self.__radius*self.__radius\n",
    "        \n",
    "    def calPerimeter(self):\n",
    "        return 2*math.pi*self.__radius\n",
    "        \n",
    "    def toString(self):\n",
    "        return (f\"Circle: [center={self.__center.toString()}, radius={self.__radius}]\")\n",
    "    \n",
    "    def changeSize(self, scale):\n",
    "        self.__radius *= scale;\n",
    "        \n",
    "    def reflectShape(self):\n",
    "        self.__center = Ponto2D(-self.__center.x, self.__center.y)\n",
    "        \n",
    "    def toStringAll(self):\n",
    "        return (f\"Circle: [center={self.__center.toString()}, radius={self.__radius}]\\nPerimeter: {self.calPerimeter()}\\nArea: {self.calArea()}\\n\")    "
   ]
  },
  {
   "cell_type": "code",
   "execution_count": 7,
   "id": "154ca034",
   "metadata": {},
   "outputs": [
    {
     "name": "stdout",
     "output_type": "stream",
     "text": [
      "Circle: [center=(1, 1), radius=10]\n",
      "Perimeter: 62.83185307179586\n",
      "Area: 314.1592653589793\n",
      "\n",
      "\n",
      "Circle: [center=(1, 1), radius=20]\n",
      "Perimeter: 125.66370614359172\n",
      "Area: 1256.6370614359173\n",
      "\n",
      "\n",
      "Circle: [center=(-1, 1), radius=20]\n",
      "Perimeter: 125.66370614359172\n",
      "Area: 1256.6370614359173\n",
      "\n",
      "\n"
     ]
    }
   ],
   "source": [
    "c1 = CircleScalavel(Ponto2D(1, 1), 10)\n",
    "print(c1.toStringAll()+\"\\n\")\n",
    "\n",
    "c1.changeSize(2)\n",
    "print(c1.toStringAll()+\"\\n\")\n",
    "\n",
    "c1.reflectShape()\n",
    "print(c1.toStringAll()+\"\\n\")"
   ]
  }
 ],
 "metadata": {
  "kernelspec": {
   "display_name": "Python 3",
   "language": "python",
   "name": "python3"
  },
  "language_info": {
   "codemirror_mode": {
    "name": "ipython",
    "version": 3
   },
   "file_extension": ".py",
   "mimetype": "text/x-python",
   "name": "python",
   "nbconvert_exporter": "python",
   "pygments_lexer": "ipython3",
   "version": "3.8.8"
  }
 },
 "nbformat": 4,
 "nbformat_minor": 5
}
