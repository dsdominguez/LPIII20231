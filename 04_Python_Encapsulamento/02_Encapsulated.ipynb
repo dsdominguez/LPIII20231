{
 "cells": [
  {
   "cell_type": "code",
   "execution_count": 11,
   "id": "e4afb739",
   "metadata": {},
   "outputs": [],
   "source": [
    "class Cat:\n",
    "    def __init__(self):\n",
    "        self.__name = \"\"\n",
    "        self.__age = 0\n",
    "        \n",
    "    @property\n",
    "    def name(self):\n",
    "        print(\"Inside a getter\")\n",
    "        return self.__name\n",
    "    \n",
    "    @property\n",
    "    def age(self):\n",
    "        return self.age\n",
    "    \n",
    "    @name.setter\n",
    "    def name(self, str1):\n",
    "        print(\"Inside a setter\")\n",
    "        self.__name = str1\n",
    "    \n",
    "    @age.setter\n",
    "    def age(self, ageParam):\n",
    "        if self.__validateAge(ageParam):\n",
    "            self.__age = ageParam    \n",
    "        \n",
    "    def __validateAge(self, ageParam):\n",
    "        if(ageParam < 0):\n",
    "            raise ValueError(\"Invalid age!!!\")\n",
    "            #print(\"Invalid age!!!\")\n",
    "        else:    \n",
    "            return True    \n",
    "        \n",
    "    def info(self):\n",
    "        print(f\"I am a cat. My name is {self.__name}. I am {self.__age} years old.\")\n",
    "        \n",
    "    def makeSound(self):\n",
    "        print(\"Meow\")"
   ]
  },
  {
   "cell_type": "code",
   "execution_count": 13,
   "id": "119c4127",
   "metadata": {},
   "outputs": [
    {
     "name": "stdout",
     "output_type": "stream",
     "text": [
      "Inside a setter\n",
      "I am a cat. My name is Kayla. I am 2 years old.\n",
      "Meow\n"
     ]
    },
    {
     "ename": "AttributeError",
     "evalue": "'Cat' object has no attribute '__name'",
     "output_type": "error",
     "traceback": [
      "\u001b[1;31m---------------------------------------------------------------------------\u001b[0m",
      "\u001b[1;31mAttributeError\u001b[0m                            Traceback (most recent call last)",
      "\u001b[1;32m~\\AppData\\Local\\Temp\\ipykernel_29880\\1434202660.py\u001b[0m in \u001b[0;36m<module>\u001b[1;34m\u001b[0m\n\u001b[0;32m      4\u001b[0m \u001b[0mcat1\u001b[0m\u001b[1;33m.\u001b[0m\u001b[0minfo\u001b[0m\u001b[1;33m(\u001b[0m\u001b[1;33m)\u001b[0m\u001b[1;33m\u001b[0m\u001b[1;33m\u001b[0m\u001b[0m\n\u001b[0;32m      5\u001b[0m \u001b[0mcat1\u001b[0m\u001b[1;33m.\u001b[0m\u001b[0mmakeSound\u001b[0m\u001b[1;33m(\u001b[0m\u001b[1;33m)\u001b[0m\u001b[1;33m\u001b[0m\u001b[1;33m\u001b[0m\u001b[0m\n\u001b[1;32m----> 6\u001b[1;33m \u001b[0mprint\u001b[0m\u001b[1;33m(\u001b[0m\u001b[0mcat1\u001b[0m\u001b[1;33m.\u001b[0m\u001b[0m__name\u001b[0m\u001b[1;33m)\u001b[0m\u001b[1;33m\u001b[0m\u001b[1;33m\u001b[0m\u001b[0m\n\u001b[0m\u001b[0;32m      7\u001b[0m \u001b[0mprint\u001b[0m\u001b[1;33m(\u001b[0m\u001b[0mcat1\u001b[0m\u001b[1;33m.\u001b[0m\u001b[0mname\u001b[0m\u001b[1;33m)\u001b[0m\u001b[1;33m\u001b[0m\u001b[1;33m\u001b[0m\u001b[0m\n",
      "\u001b[1;31mAttributeError\u001b[0m: 'Cat' object has no attribute '__name'"
     ]
    }
   ],
   "source": [
    "cat1 = Cat()\n",
    "cat1.name = 'Kayla'\n",
    "cat1.age = 2\n",
    "cat1.info()\n",
    "cat1.makeSound()\n",
    "#print(cat1.__name)\n",
    "print(cat1.name)"
   ]
  },
  {
   "cell_type": "code",
   "execution_count": 12,
   "id": "6d3d2cc5",
   "metadata": {},
   "outputs": [
    {
     "name": "stdout",
     "output_type": "stream",
     "text": [
      "Inside a setter\n",
      "Invalid age!!!\n",
      "I am a cat. My name is Raschid. I am 0 years old.\n"
     ]
    }
   ],
   "source": [
    "cat2 = Cat()\n",
    "cat2.name = 'Raschid'\n",
    "cat2.age = -2\n",
    "cat2.info()"
   ]
  }
 ],
 "metadata": {
  "kernelspec": {
   "display_name": "Python 3 (ipykernel)",
   "language": "python",
   "name": "python3"
  },
  "language_info": {
   "codemirror_mode": {
    "name": "ipython",
    "version": 3
   },
   "file_extension": ".py",
   "mimetype": "text/x-python",
   "name": "python",
   "nbconvert_exporter": "python",
   "pygments_lexer": "ipython3",
   "version": "3.9.13"
  }
 },
 "nbformat": 4,
 "nbformat_minor": 5
}
