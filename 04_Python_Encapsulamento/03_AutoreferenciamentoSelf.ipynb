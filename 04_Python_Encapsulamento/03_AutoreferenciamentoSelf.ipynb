{
 "cells": [
  {
   "cell_type": "code",
   "execution_count": 5,
   "id": "1707d320",
   "metadata": {},
   "outputs": [],
   "source": [
    "#Apenas mostra o autoreferenciamento no caso de ofuscamento de nomes\n",
    "class Cat:\n",
    "    def __init__(self, __name, __age):\n",
    "        self.__name = __name\n",
    "        self.__age = __age\n",
    "        \n",
    "    def info(self):\n",
    "        print(f\"I am a cat. My name is {self.__name}. I am {self.__age} years old.\")\n",
    "        \n",
    "    def makeSound(self):\n",
    "        print(\"Meow\")"
   ]
  },
  {
   "cell_type": "code",
   "execution_count": 6,
   "id": "9bf7981d",
   "metadata": {},
   "outputs": [
    {
     "name": "stdout",
     "output_type": "stream",
     "text": [
      "I am a cat. My name is Kayla. I am 2 years old.\n",
      "Meow\n"
     ]
    }
   ],
   "source": [
    "cat1 = Cat('Kayla', 2)\n",
    "cat1.info()\n",
    "cat1.makeSound()"
   ]
  }
 ],
 "metadata": {
  "kernelspec": {
   "display_name": "Python 3 (ipykernel)",
   "language": "python",
   "name": "python3"
  },
  "language_info": {
   "codemirror_mode": {
    "name": "ipython",
    "version": 3
   },
   "file_extension": ".py",
   "mimetype": "text/x-python",
   "name": "python",
   "nbconvert_exporter": "python",
   "pygments_lexer": "ipython3",
   "version": "3.9.13"
  }
 },
 "nbformat": 4,
 "nbformat_minor": 5
}
