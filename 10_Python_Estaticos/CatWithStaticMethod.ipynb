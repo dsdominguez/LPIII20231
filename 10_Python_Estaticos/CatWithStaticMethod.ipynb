{
 "cells": [
  {
   "cell_type": "code",
   "execution_count": 1,
   "id": "87b306e4",
   "metadata": {},
   "outputs": [],
   "source": [
    "#Class Cat\n",
    "class CatStatic:\n",
    "    \n",
    "    #Constructor - example method overload\n",
    "    def __init__(self, name = None, age = -1):\n",
    "        if (name != None):\n",
    "            self.__name = name\n",
    "        else:    \n",
    "            self.__name = \"SemNome\"\n",
    "            \n",
    "        if(age != -1):\n",
    "            self.__age = age\n",
    "        else:\n",
    "            self.__age = 0\n",
    "        \n",
    "    #Print cat\n",
    "    def info(self):\n",
    "        print(f\"I am a cat. My name is {self.__name}. I am {self.__age} years old.\")\n",
    "        \n",
    "    #Static method\n",
    "    @staticmethod \n",
    "    def makeSound():\n",
    "        print(\"Meow!!!\")"
   ]
  },
  {
   "cell_type": "code",
   "execution_count": 3,
   "id": "f02d01ea",
   "metadata": {},
   "outputs": [
    {
     "name": "stdout",
     "output_type": "stream",
     "text": [
      "I am a cat. My name is Kayla. I am 2 years old.\n",
      "Meow!!!\n",
      "Meow!!!\n"
     ]
    }
   ],
   "source": [
    "#Using static method with instance\n",
    "cat1 = CatStatic('Kayla', 2)\n",
    "cat1.info()\n",
    "cat1.makeSound()\n",
    "\n",
    "#Using static method with class definition\n",
    "CatStatic.makeSound()\n",
    "#CatStatic.info()"
   ]
  }
 ],
 "metadata": {
  "kernelspec": {
   "display_name": "Python 3 (ipykernel)",
   "language": "python",
   "name": "python3"
  },
  "language_info": {
   "codemirror_mode": {
    "name": "ipython",
    "version": 3
   },
   "file_extension": ".py",
   "mimetype": "text/x-python",
   "name": "python",
   "nbconvert_exporter": "python",
   "pygments_lexer": "ipython3",
   "version": "3.9.13"
  }
 },
 "nbformat": 4,
 "nbformat_minor": 5
}
